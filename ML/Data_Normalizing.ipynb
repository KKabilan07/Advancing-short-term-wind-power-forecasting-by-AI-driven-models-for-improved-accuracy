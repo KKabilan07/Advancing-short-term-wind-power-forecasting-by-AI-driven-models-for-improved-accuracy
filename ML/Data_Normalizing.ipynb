{
 "cells": [
  {
   "cell_type": "code",
   "execution_count": null,
   "id": "a8bd797e",
   "metadata": {},
   "outputs": [],
   "source": [
    "import pandas as pd\n",
    "from sklearn.preprocessing import MinMaxScaler\n",
    "\n",
    "# Load the dataset\n",
    "file_path = r\"D:\\EEE-Projects\\T1.csv\"  # Adjust the path if needed\n",
    "df = pd.read_csv(file_path)\n",
    "\n",
    "# Display first few rows\n",
    "print(df.head())\n",
    "\n",
    "# Check for missing values, data types, and duplicates\n",
    "print(df.info())\n",
    "print(df.isnull().sum())\n",
    "print(df.duplicated().sum())\n",
    "\n",
    "# Convert Date/Time column to proper format\n",
    "df['Date/Time'] = pd.to_datetime(df['Date/Time'], format=\"%d %m %Y %H:%M\")"
   ]
  },
  {
   "cell_type": "code",
   "execution_count": null,
   "id": "454632b9",
   "metadata": {},
   "outputs": [],
   "source": [
    "# Select numeric columns (excluding datetime)\n",
    "numeric_cols = df.select_dtypes(include=['float64', 'int64']).columns\n",
    "\n",
    "# Initialize scaler\n",
    "scaler = MinMaxScaler()\n",
    "\n",
    "# Apply normalization\n",
    "df[numeric_cols] = scaler.fit_transform(df[numeric_cols])\n",
    "\n",
    "# Display first few rows to check\n",
    "print(df.head())\n",
    "\n",
    "df.to_csv(\"cleaned_data1.csv\", index=False)\n"
   ]
  }
 ],
 "metadata": {
  "language_info": {
   "name": "python"
  }
 },
 "nbformat": 4,
 "nbformat_minor": 5
}
